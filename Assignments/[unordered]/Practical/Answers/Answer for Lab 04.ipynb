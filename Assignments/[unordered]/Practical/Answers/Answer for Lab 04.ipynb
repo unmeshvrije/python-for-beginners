{
 "cells": [
  {
   "cell_type": "markdown",
   "metadata": {},
   "source": [
    "# 1: Palindrome 1"
   ]
  },
  {
   "cell_type": "code",
   "execution_count": 1,
   "metadata": {},
   "outputs": [],
   "source": [
    "palindrome_answer = \"abcdefghijklmnopqrstuvwxyzyxwvutsrqponmlkjihgfedcba\""
   ]
  },
  {
   "cell_type": "code",
   "execution_count": 2,
   "metadata": {},
   "outputs": [
    {
     "name": "stdout",
     "output_type": "stream",
     "text": [
      "True\n"
     ]
    }
   ],
   "source": [
    "def basic_palindrome():\n",
    "    letter = 'a'\n",
    "    output_string = \"\"\n",
    "    \n",
    "    # chr() converts a numeric value to a character and ord() converts a character to a numeric value\n",
    "    # This allows us to arithmetically change the value of our letter\n",
    "    while letter != 'z':\n",
    "        output_string += letter\n",
    "        letter = chr(ord(letter) + 1)\n",
    "    \n",
    "    # The top loop adds 'a' -> 'y' to the output_string, the bottom loop adds 'z' -> 'b' to the output_string\n",
    "    while letter != 'a':\n",
    "        output_string += letter\n",
    "        letter = chr(ord(letter) - 1)\n",
    "        \n",
    "    # We add the final 'a' here and return the answer\n",
    "    output_string += letter\n",
    "    return output_string\n",
    "    \n",
    "print(palindrome_answer == basic_palindrome())"
   ]
  },
  {
   "cell_type": "code",
   "execution_count": 3,
   "metadata": {},
   "outputs": [
    {
     "name": "stdout",
     "output_type": "stream",
     "text": [
      "True\n"
     ]
    }
   ],
   "source": [
    "# We could also do:\n",
    "import string\n",
    "\n",
    "def string_lib_palindrome():\n",
    "    # string.acsii_lowercase will get us the whole alphabet in lowercase from Python\n",
    "    # then we use list slicing to add the same list, but in reverse and removing the last 'z'\n",
    "    return string.ascii_lowercase + string.ascii_lowercase[-2::-1]\n",
    "\n",
    "print(palindrome_answer == string_lib_palindrome())"
   ]
  },
  {
   "cell_type": "markdown",
   "metadata": {},
   "source": [
    "# 2: Palindrome 2"
   ]
  },
  {
   "cell_type": "code",
   "execution_count": 4,
   "metadata": {},
   "outputs": [],
   "source": [
    "palindrome_f_answer = \"fghijklmnopqrstuvwxyzyxwvutsrqponmlkjihgf\""
   ]
  },
  {
   "cell_type": "code",
   "execution_count": 5,
   "metadata": {},
   "outputs": [
    {
     "name": "stdout",
     "output_type": "stream",
     "text": [
      "Enter a starting letter for your palindrome alphabet: f\n",
      "True\n"
     ]
    }
   ],
   "source": [
    "# Note that there is no error checking done here - the user could enter a whole set of letters, punctuation etc\n",
    "\n",
    "def input_palindrome():\n",
    "    start_letter  = input(\"Enter a starting letter for your palindrome alphabet: \")\n",
    "    letter        = start_letter\n",
    "    output_string = \"\"\n",
    "    \n",
    "    while letter != 'z':\n",
    "        output_string += letter\n",
    "        letter = chr(ord(letter) + 1)\n",
    "    \n",
    "    while letter != start_letter:\n",
    "        output_string += letter\n",
    "        letter = chr(ord(letter) - 1)\n",
    "        \n",
    "    output_string += letter\n",
    "    return output_string\n",
    "    \n",
    "print(palindrome_f_answer == input_palindrome())"
   ]
  },
  {
   "cell_type": "code",
   "execution_count": 6,
   "metadata": {},
   "outputs": [
    {
     "name": "stdout",
     "output_type": "stream",
     "text": [
      "Enter a starting letter for your palindrome alphabet: f\n",
      "True\n"
     ]
    }
   ],
   "source": [
    "# We could also do:\n",
    "import string\n",
    "\n",
    "def input_string_lib_palindrome():\n",
    "    start_letter = ord(input(\"Enter a starting letter for your palindrome alphabet: \")) - ord('a')\n",
    "    return string.ascii_lowercase[start_letter::] + string.ascii_lowercase[-2:start_letter - 1:-1]\n",
    "\n",
    "print(palindrome_f_answer == input_string_lib_palindrome())"
   ]
  },
  {
   "cell_type": "markdown",
   "metadata": {},
   "source": [
    "# 3: Pyramid"
   ]
  },
  {
   "cell_type": "code",
   "execution_count": 7,
   "metadata": {},
   "outputs": [
    {
     "name": "stdout",
     "output_type": "stream",
     "text": [
      "              a\n",
      "             aba\n",
      "            abcba\n",
      "           abcdcba\n",
      "          abcdedcba\n",
      "         abcdefedcba\n",
      "        abcdefgfedcba\n",
      "       abcdefghgfedcba\n",
      "      abcdefghihgfedcba\n",
      "     abcdefghijihgfedcba\n",
      "    abcdefghijkjihgfedcba\n",
      "   abcdefghijklkjihgfedcba\n",
      "  abcdefghijklmlkjihgfedcba\n",
      " abcdefghijklmnmlkjihgfedcba\n",
      "abcdefghijklmnonmlkjihgfedcba\n",
      "\n"
     ]
    }
   ],
   "source": [
    "def pyramid_printer():\n",
    "    pyramid_height = 15\n",
    "    pyramid_output = \"\"\n",
    "    \n",
    "    # This loop walks from the tip of the pyramid to the base\n",
    "    for level in range(pyramid_height):\n",
    "        level_string = \"\"\n",
    "        \n",
    "        # This loop adds an appropriate amount of space-padding to the left of the letters\n",
    "        # We subtract 1 to take the central letter into account (the width of the letters in each line is: (level * 2) + 1)\n",
    "        for space in range(pyramid_height - 1 - level):\n",
    "            level_string += \" \"\n",
    "        \n",
    "        # This loops adds as many letters as the level we are on (so no letters on 0, 'a' on 1, 'ab' on 2 etc)\n",
    "        # Note that this loop prints nothing at the very tip, level 0\n",
    "        for letter_offset in range(level):\n",
    "            level_string += chr(ord('a') + letter_offset)\n",
    "            \n",
    "        # This loop prints 1 more letters than the current level\n",
    "        # so 1 letter is printed on level 0, the letter will be 'a' + 0 - 0 ('a') This is the pyramid's tip\n",
    "        # on level 1, 2 letters are printed: 'a' + 1 - 0 ('b') and 'a' + 1 - 1 ('a')\n",
    "        for letter_offset in range(level + 1):\n",
    "            level_string += chr(ord('a') + level - letter_offset)\n",
    "         \n",
    "        pyramid_output += level_string + \"\\n\"\n",
    "    \n",
    "    return pyramid_output\n",
    "\n",
    "print(pyramid_printer())"
   ]
  },
  {
   "cell_type": "markdown",
   "metadata": {},
   "source": [
    "# 4: Collatz Conjecture"
   ]
  },
  {
   "cell_type": "code",
   "execution_count": 8,
   "metadata": {},
   "outputs": [],
   "source": [
    "collatz_12_answer = [12, 6, 3, 10, 5, 16, 8, 4, 2, 1]"
   ]
  },
  {
   "cell_type": "code",
   "execution_count": 9,
   "metadata": {},
   "outputs": [
    {
     "name": "stdout",
     "output_type": "stream",
     "text": [
      "True\n"
     ]
    }
   ],
   "source": [
    "# First we use the modulo operator (%) to check for evenness\n",
    "\n",
    "def collatz_sequence(starting_number):\n",
    "    # Make sure to add the first number to the list\n",
    "    sequence = [starting_number]\n",
    "    \n",
    "    # We change the name of the variable here to make it more readable in this loop\n",
    "    current_number = starting_number\n",
    "    while current_number != 1:\n",
    "        if current_number % 2 == 0:\n",
    "            # We don't have to cast down to an int here, as the value will always be exact\n",
    "            # but it makes the output look consistent\n",
    "            current_number = int(current_number / 2)\n",
    "            sequence.append(current_number)\n",
    "        else:\n",
    "            # Again, we don't need to cast to int, but it looks nicer\n",
    "            current_number = int((3 * current_number) + 1)\n",
    "            sequence.append(current_number)\n",
    "            \n",
    "    return sequence\n",
    "\n",
    "print(collatz_12_answer == collatz_sequence(12))"
   ]
  },
  {
   "cell_type": "code",
   "execution_count": 10,
   "metadata": {},
   "outputs": [
    {
     "name": "stdout",
     "output_type": "stream",
     "text": [
      "True\n"
     ]
    }
   ],
   "source": [
    "# And now we use bitwise AND to check for evenness\n",
    "\n",
    "def collatz_sequence(starting_number):\n",
    "    sequence = [starting_number]\n",
    "\n",
    "    current_number = starting_number\n",
    "    while current_number != 1:\n",
    "        # Remember that binary reads from right to left, from indices 0 to n\n",
    "        # Each position represents 2^position_index\n",
    "        # To find the value of a binary number, therefore, we calculate the power of 2 for any position with a 1 and add the results together\n",
    "        # e.g. 100110101 has 1s for values 2^0 = 1, 2^2 = 4, 2^4 = 16, 2^5 = 32, and 2^8 = 256 meaning this is 309 in binary\n",
    "        # Notice that if the rightmost bit is set to 1, then we add 1 to the number, and for every other index we add an even number\n",
    "        # This means that all odd binary numbers end with 1\n",
    "        # Therefore, f we take the bitwise AND of any number and binary 1, the result will always be 0 for even numbers, and 1 for odd numbers\n",
    "        # e.g. 100110101 & 000000001 = 000000001 whilst 100110100 & 000000001 == 000000000 (as 1 & 1 = 1 and 1 & 0 = 0)\n",
    "        if current_number & 1 == 0:\n",
    "            current_number = int(current_number / 2)\n",
    "            sequence.append(current_number)\n",
    "        else:\n",
    "            current_number = int((3 * current_number) + 1)\n",
    "            sequence.append(current_number)\n",
    "            \n",
    "    return sequence\n",
    "\n",
    "print(collatz_12_answer == collatz_sequence(12))"
   ]
  },
  {
   "cell_type": "markdown",
   "metadata": {},
   "source": [
    "# 5: Run-Length Encoding"
   ]
  },
  {
   "cell_type": "code",
   "execution_count": 11,
   "metadata": {},
   "outputs": [],
   "source": [
    "rle_input_01        = \"aaeeeeae\"\n",
    "rle_input_01_answer = \"2a4e1a1e\"\n",
    "rle_input_02        = \"rr44errre\"\n",
    "rle_input_02_answer = \"invalid input\"\n",
    "rle_input_03        = \"eeeeeeeeeeeeeeeeeeeee\"\n",
    "rle_input_03_answer = \"21e\""
   ]
  },
  {
   "cell_type": "code",
   "execution_count": 12,
   "metadata": {},
   "outputs": [
    {
     "name": "stdout",
     "output_type": "stream",
     "text": [
      "True\n",
      "True\n",
      "True\n"
     ]
    }
   ],
   "source": [
    "import string\n",
    "\n",
    "def run_length_encoder(input_to_encode):\n",
    "    encoding = \"\"\n",
    "    \n",
    "    # This value always starts at 1 as we are always looking at some letter, so the minimum encoding length is 1\n",
    "    current_length = 1\n",
    "    \n",
    "    # This loop walks through all indices except the final index.\n",
    "    # We need to skip the last index as we check \"index + 1\" within the loop,\n",
    "    # if we did this with the final index we would get an out of bounds error\n",
    "    for i in range(len(input_to_encode) - 1):\n",
    "        \n",
    "        # First we check that the letter at the current index is a valid lowercase letter\n",
    "        if input_to_encode[i] not in string.ascii_lowercase:\n",
    "            return \"invalid input\"\n",
    "    \n",
    "        # Next we see if this letter is the same as the next letter, if so increase the current encoding length\n",
    "        elif input_to_encode[i] == input_to_encode[i + 1]:\n",
    "            current_length += 1\n",
    "        \n",
    "        # Otherwise, we add the current encoding length and the relevant letter to the encoding output string\n",
    "        # We also need to make sure we reset the encoding length back to the starting value\n",
    "        else:\n",
    "            encoding += (str(current_length) + input_to_encode[i])\n",
    "            current_length = 1\n",
    "    \n",
    "    # Since we don't look at the final index directly in the loop, we must look at it here\n",
    "    # If the letter is new, then current_length is 1 already, and we just need to add the last letter\n",
    "    # If current_length isn't 1, then it's already at the correct value as the loop incremented the encoding length when it saw the second last letter\n",
    "    encoding += (str(current_length) + input_to_encode[i + 1])\n",
    "            \n",
    "    return encoding\n",
    "\n",
    "print(run_length_encoder(rle_input_01) == rle_input_01_answer)\n",
    "print(run_length_encoder(rle_input_02) == rle_input_02_answer)\n",
    "print(run_length_encoder(rle_input_03) == rle_input_03_answer)"
   ]
  }
 ],
 "metadata": {
  "kernelspec": {
   "display_name": "Python 3",
   "language": "python",
   "name": "python3"
  },
  "language_info": {
   "codemirror_mode": {
    "name": "ipython",
    "version": 3
   },
   "file_extension": ".py",
   "mimetype": "text/x-python",
   "name": "python",
   "nbconvert_exporter": "python",
   "pygments_lexer": "ipython3",
   "version": "3.7.3"
  }
 },
 "nbformat": 4,
 "nbformat_minor": 2
}
