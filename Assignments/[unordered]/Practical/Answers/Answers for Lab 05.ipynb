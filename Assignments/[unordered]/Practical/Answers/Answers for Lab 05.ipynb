{
 "cells": [
  {
   "cell_type": "markdown",
   "metadata": {},
   "source": [
    "# 1. Run-Length Encoding\n",
    "\n",
    "See Answer for Lab 04"
   ]
  },
  {
   "cell_type": "markdown",
   "metadata": {},
   "source": [
    "# 2. Weave 1"
   ]
  },
  {
   "cell_type": "code",
   "execution_count": 1,
   "metadata": {},
   "outputs": [],
   "source": [
    "weave_first_series  = [i for i in range(1, 11)]\n",
    "weave_second_series = [i for i in range(10, 0, -1)]\n",
    "weave_answer        = [1, 10, 2, 9, 3, 8, 4, 7, 5, 6, 6, 5, 7, 4, 8, 3, 9, 2, 10, 1]"
   ]
  },
  {
   "cell_type": "code",
   "execution_count": 2,
   "metadata": {},
   "outputs": [
    {
     "name": "stdout",
     "output_type": "stream",
     "text": [
      "True\n"
     ]
    }
   ],
   "source": [
    "def weave(first_series, second_series):\n",
    "    output = []\n",
    "    \n",
    "    # We check for a minimum length here so we don't go out of bounds with lists of different sizes\n",
    "    max_range = min(len(first_series), len(second_series))\n",
    "    for i in range(max_range):\n",
    "        output.append(first_series[i])\n",
    "        output.append(second_series[i])\n",
    "    return output\n",
    "\n",
    "print(weave_answer == weave(weave_first_series, weave_second_series))"
   ]
  },
  {
   "cell_type": "markdown",
   "metadata": {},
   "source": [
    "# 3. Weave 2"
   ]
  },
  {
   "cell_type": "code",
   "execution_count": 3,
   "metadata": {},
   "outputs": [],
   "source": [
    "weave_third_series  = [i for i in range(1, 21)]\n",
    "\n",
    "weave_first_answer  = [1, 10, 2, 9, 3, 8, 4, 7, 5, 6, 6, 5, 7, 4, 8, 3, 9, 2, 10, 1]\n",
    "weave_second_answer = [1, 1, 10, 2, 2, 3, 9, 4, 3, 5, 8, 6, 4, 7, 7, 8, 5, 9, 6, 10, 6, 11, 5, 12, 7, 13, 4, 14, 8, 15, 3, 16, 9, 17, 2, 18, 10, 19, 1, 20]"
   ]
  },
  {
   "cell_type": "code",
   "execution_count": 4,
   "metadata": {},
   "outputs": [
    {
     "name": "stdout",
     "output_type": "stream",
     "text": [
      "True\n",
      "True\n"
     ]
    }
   ],
   "source": [
    "class Number_Row:\n",
    "    def __init__(self, starting_list = []):\n",
    "        self.current_weave = starting_list\n",
    "        \n",
    "    def weave(self, new_list):\n",
    "        new_weave = []\n",
    "        \n",
    "        max_range = min(len(self.current_weave), len(new_list))\n",
    "        for i in range(max_range):\n",
    "            new_weave.append(self.current_weave[i])\n",
    "            new_weave.append(new_list[i])\n",
    "            \n",
    "        self.current_weave = new_weave\n",
    "        \n",
    "    def get_weave(self):\n",
    "        return self.current_weave\n",
    "\n",
    "\n",
    "\n",
    "nr = Number_Row(weave_first_series)\n",
    "\n",
    "nr.weave(weave_second_series)\n",
    "print(weave_first_answer == nr.get_weave())\n",
    "\n",
    "nr.weave(weave_third_series)\n",
    "print(weave_second_answer == nr.get_weave())"
   ]
  },
  {
   "cell_type": "markdown",
   "metadata": {},
   "source": [
    "# 4. Body Mass Index"
   ]
  },
  {
   "cell_type": "code",
   "execution_count": 5,
   "metadata": {},
   "outputs": [],
   "source": [
    "# These strings could be taken from user input, a CSV file, an XML file etc.\n",
    "patient_01_data = \"Dean Johnson M 1.78 83\"\n",
    "patient_02_data = \"Sophia Miller V 1.69 60\""
   ]
  },
  {
   "cell_type": "code",
   "execution_count": 6,
   "metadata": {},
   "outputs": [
    {
     "name": "stdout",
     "output_type": "stream",
     "text": [
      "Mr. Johnson's bmi is 26.2 and is unhealthy\n",
      "Ms. Miller's bmi is 21.0 and is healthy\n"
     ]
    }
   ],
   "source": [
    "class Patient:\n",
    "    def __init__(self, name, gender, height, weight):\n",
    "        self.first_name = name[0]\n",
    "        self.last_name  = name[-1]\n",
    "        self.gender     = gender\n",
    "        self.height     = height\n",
    "        self.weight     = weight\n",
    "        self.bmi        = self.calculate_bmi()\n",
    "        self.status     = self.determine_status()\n",
    "        self.title      = self.determine_title()\n",
    "        \n",
    "    def calculate_bmi(self):\n",
    "        return (float(self.weight) / (float(self.height) ** 2))\n",
    "    \n",
    "    def determine_status(self):\n",
    "        return \"healthy\" if (self.bmi >= 18.5 and self.bmi <= 25) else \"unhealthy\"\n",
    "    \n",
    "    def determine_title(self):\n",
    "        return \"Mr.\" if self.gender == \"M\" else \"Ms.\" if self.gender == \"V\" else \"Patient\"\n",
    "\n",
    "    \n",
    "def process_patient_data(patient_data):\n",
    "    # Python doesn't have the concept of \"constants\" (values that you cannot change), but in other languages it is customary to make constant values uppercase to indicate their status\n",
    "    # It is generally a good idea to give any \"magic numbers\" names - the index \"-1\" means nothing, but \"WEIGHT_INDEX\" is pretty clear\n",
    "    WEIGHT_INDEX     = -1\n",
    "    HEIGHT_INDEX     = -2\n",
    "    GENDER_INDEX     = -3\n",
    "    NAME_START_INDEX =  0\n",
    "    NAME_END_INDEX   =  GENDER_INDEX\n",
    "    \n",
    "    patient_data = patient_data.split(\" \")\n",
    "    \n",
    "    name   = patient_data[NAME_START_INDEX : NAME_END_INDEX]\n",
    "    gender = patient_data[GENDER_INDEX]\n",
    "    height = patient_data[HEIGHT_INDEX]\n",
    "    weight = patient_data[WEIGHT_INDEX]\n",
    "    \n",
    "    return Patient(name, gender, height, weight)\n",
    "\n",
    "def print_patient_data(patient):\n",
    "    print(\"{} {}'s bmi is {:.1f} and is {}\".format(patient.title, patient.last_name, patient.bmi, patient.status))\n",
    "\n",
    "print_patient_data(process_patient_data(patient_01_data))\n",
    "print_patient_data(process_patient_data(patient_02_data))"
   ]
  },
  {
   "cell_type": "markdown",
   "metadata": {},
   "source": [
    "# 5. Body Mass Index 2"
   ]
  },
  {
   "cell_type": "code",
   "execution_count": 7,
   "metadata": {},
   "outputs": [],
   "source": [
    "all_patient_data = [\"Dean Johnson M 1.78 83 Yes\", \"Sophia Miller V 1.69 60 No\", \"Stacey Williams V 1.52 53 Yes\", \"Arwa Leon V 1.67 62 Yes\", \"Agata Rosales V 1.75 62 Yes\"]"
   ]
  },
  {
   "cell_type": "code",
   "execution_count": 8,
   "metadata": {},
   "outputs": [
    {
     "name": "stdout",
     "output_type": "stream",
     "text": [
      "The average BMI of the test subjects is 22.5\n",
      "There are 2 cases of the syndrome amongst people with a BMI >= 22.5\n",
      "There are 2 cases of the syndrome amongst people with a BMI <  22.5\n"
     ]
    }
   ],
   "source": [
    "class Patient:\n",
    "    def __init__(self, name, gender, height, weight, hk):\n",
    "        self.first_name = name[0]\n",
    "        self.last_name  = name[-1]\n",
    "        self.gender     = gender\n",
    "        self.height     = height\n",
    "        self.weight     = weight\n",
    "        self.bmi        = self.calculate_bmi()\n",
    "        self.status     = self.determine_status()\n",
    "        self.title      = self.determine_title()\n",
    "        self.hk         = hk\n",
    "        \n",
    "    def calculate_bmi(self):\n",
    "        return (float(self.weight) / (float(self.height) ** 2))\n",
    "    \n",
    "    def determine_status(self):\n",
    "        return \"healthy\" if (self.bmi >= 18.5 and self.bmi <= 25) else \"unhealthy\"\n",
    "    \n",
    "    def determine_title(self):\n",
    "        return \"Mr.\" if self.gender == \"M\" else \"Ms.\" if self.gender == \"V\" else \"Patient\"\n",
    "\n",
    "    \n",
    "def process_patient_data(patient_data):\n",
    "    HK_INDEX         = -1\n",
    "    WEIGHT_INDEX     = -2\n",
    "    HEIGHT_INDEX     = -3\n",
    "    GENDER_INDEX     = -4\n",
    "    NAME_START_INDEX =  0\n",
    "    NAME_END_INDEX   =  GENDER_INDEX\n",
    "    \n",
    "    patient_data = patient_data.split(\" \")\n",
    "    \n",
    "    name   = patient_data[NAME_START_INDEX : NAME_END_INDEX]\n",
    "    gender = patient_data[GENDER_INDEX]\n",
    "    height = patient_data[HEIGHT_INDEX]\n",
    "    weight = patient_data[WEIGHT_INDEX]\n",
    "    hk     = True if patient_data[HK_INDEX].lower() == \"yes\" else False\n",
    "    \n",
    "    return Patient(name, gender, height, weight, hk)\n",
    "\n",
    "def average_bmi(patients):\n",
    "    bmi_sum = 0\n",
    "    for patient in patients:\n",
    "        bmi_sum += patient.bmi\n",
    "    return bmi_sum / len(patients)\n",
    "\n",
    "def hk_incidence_above_bmi(threshold_bmi, patients):\n",
    "    hk_incidence = 0\n",
    "    for patient in patients:\n",
    "        if patient.hk == True and patient.bmi >= threshold_bmi:\n",
    "            hk_incidence += 1\n",
    "    return hk_incidence\n",
    "    \n",
    "def hk_incidence_below_bmi(threshold_bmi, patients):\n",
    "    hk_incidence = 0\n",
    "    for patient in patients:\n",
    "        if patient.hk == True and patient.bmi < threshold_bmi:\n",
    "            hk_incidence += 1\n",
    "    return hk_incidence\n",
    "\n",
    "def process_all_patients(patient_data_list):\n",
    "    patient_list = []\n",
    "    for patient in patient_data_list:\n",
    "        patient_list.append(process_patient_data(patient))\n",
    "    \n",
    "    threshold_bmi = average_bmi(patient_list)\n",
    "\n",
    "    print(\"The average BMI of the test subjects is {:.1f}\".format(threshold_bmi))\n",
    "    print(\"There are {} cases of the syndrome amongst people with a BMI >= {:.1f}\".format(hk_incidence_above_bmi(threshold_bmi, patient_list), threshold_bmi))\n",
    "    print(\"There are {} cases of the syndrome amongst people with a BMI <  {:.1f}\".format(hk_incidence_below_bmi(threshold_bmi, patient_list), threshold_bmi))\n",
    "    \n",
    "    \n",
    "process_all_patients(all_patient_data)"
   ]
  }
 ],
 "metadata": {
  "kernelspec": {
   "display_name": "Python 3",
   "language": "python",
   "name": "python3"
  },
  "language_info": {
   "codemirror_mode": {
    "name": "ipython",
    "version": 3
   },
   "file_extension": ".py",
   "mimetype": "text/x-python",
   "name": "python",
   "nbconvert_exporter": "python",
   "pygments_lexer": "ipython3",
   "version": "3.7.3"
  }
 },
 "nbformat": 4,
 "nbformat_minor": 2
}
