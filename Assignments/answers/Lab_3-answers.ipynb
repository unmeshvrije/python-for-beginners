{
 "cells": [
  {
   "cell_type": "markdown",
   "metadata": {},
   "source": [
    "# 1. Zipping Lists"
   ]
  },
  {
   "cell_type": "code",
   "execution_count": 5,
   "metadata": {},
   "outputs": [],
   "source": [
    "import string\n",
    "\n",
    "first_example_list  = [c for c in string.ascii_lowercase]\n",
    "second_example_list = [i for i in range(len(string.ascii_lowercase))]"
   ]
  },
  {
   "cell_type": "code",
   "execution_count": 6,
   "metadata": {},
   "outputs": [
    {
     "name": "stdout",
     "output_type": "stream",
     "text": [
      "['a', 0, 'b', 1, 'c', 2, 'd', 3, 'e', 4, 'f', 5, 'g', 6, 'h', 7, 'i', 8, 'j', 9, 'k', 10, 'l', 11, 'm', 12, 'n', 13, 'o', 14, 'p', 15, 'q', 16, 'r', 17, 's', 18, 't', 19, 'u', 20, 'v', 21, 'w', 22, 'x', 23, 'y', 24, 'z', 25]\n"
     ]
    }
   ],
   "source": [
    "def zip_lists(first_list, second_list):\n",
    "    new_list = []\n",
    "    for i in range(min(len(first_list), len(second_list))):\n",
    "        new_list.append(first_list[i])\n",
    "        new_list.append(second_list[i])\n",
    "    return new_list\n",
    "\n",
    "print(zip_lists(first_example_list, second_example_list))"
   ]
  },
  {
   "cell_type": "markdown",
   "metadata": {},
   "source": [
    "# 2. Age Differences"
   ]
  },
  {
   "cell_type": "code",
   "execution_count": 7,
   "metadata": {},
   "outputs": [],
   "source": [
    "example_people = [(16, \"Brian\"), (12, \"Lucy\"), (18, \"Harold\")]"
   ]
  },
  {
   "cell_type": "code",
   "execution_count": 11,
   "metadata": {},
   "outputs": [
    {
     "name": "stdout",
     "output_type": "stream",
     "text": [
      "Brian is 4 years older than Lucy.\n"
     ]
    }
   ],
   "source": [
    "def age_differences(people):\n",
    "    for i in range(len(people) - 1):\n",
    "        first_name = people[i][1]\n",
    "        first_age  = people[i][0]\n",
    "        \n",
    "        second_name = people[i + 1][1]\n",
    "        second_age  = people[i + 1][0]\n",
    "        \n",
    "        if first_age > second_age:\n",
    "            difference = first_age - second_age\n",
    "            print(\"{} is {} years older than {}.\".format(first_name, difference, second_name))\n",
    "            \n",
    "age_differences(example_people)"
   ]
  },
  {
   "cell_type": "markdown",
   "metadata": {},
   "source": [
    "# 3. Remove the Duplicates"
   ]
  },
  {
   "cell_type": "code",
   "execution_count": 14,
   "metadata": {},
   "outputs": [],
   "source": [
    "example_doubled_list = [1, 1, 2, 3, 3, 4, 3]"
   ]
  },
  {
   "cell_type": "code",
   "execution_count": 15,
   "metadata": {},
   "outputs": [
    {
     "name": "stdout",
     "output_type": "stream",
     "text": [
      "[1, 2, 3, 4]\n"
     ]
    }
   ],
   "source": [
    "def remove_doubles(doubled_list):\n",
    "    no_doubles = []\n",
    "    for number in doubled_list:\n",
    "        if number not in no_doubles:\n",
    "            no_doubles.append(number)\n",
    "    return no_doubles\n",
    "\n",
    "print(remove_doubles(example_doubled_list))"
   ]
  },
  {
   "cell_type": "markdown",
   "metadata": {},
   "source": [
    "# 4. Only the Duplicates"
   ]
  },
  {
   "cell_type": "code",
   "execution_count": 16,
   "metadata": {},
   "outputs": [],
   "source": [
    "first_example_list  = [1, 2, 3, 4]\n",
    "second_example_list = [1, 4, 5, 6]"
   ]
  },
  {
   "cell_type": "code",
   "execution_count": 17,
   "metadata": {},
   "outputs": [
    {
     "name": "stdout",
     "output_type": "stream",
     "text": [
      "[1, 4]\n"
     ]
    }
   ],
   "source": [
    "def get_duplicates(first_list, second_list):\n",
    "    duplicates = []\n",
    "    for number in first_list:\n",
    "        if number in second_list:\n",
    "            duplicates.append(number)\n",
    "    return duplicates\n",
    "\n",
    "print(get_duplicates(first_example_list, second_example_list))"
   ]
  },
  {
   "cell_type": "markdown",
   "metadata": {},
   "source": [
    "# 5. Count the Duplicates"
   ]
  },
  {
   "cell_type": "code",
   "execution_count": null,
   "metadata": {},
   "outputs": [],
   "source": []
  }
 ],
 "metadata": {
  "kernelspec": {
   "display_name": "Python 3",
   "language": "python",
   "name": "python3"
  },
  "language_info": {
   "codemirror_mode": {
    "name": "ipython",
    "version": 3
   },
   "file_extension": ".py",
   "mimetype": "text/x-python",
   "name": "python",
   "nbconvert_exporter": "python",
   "pygments_lexer": "ipython3",
   "version": "3.7.3"
  }
 },
 "nbformat": 4,
 "nbformat_minor": 2
}
