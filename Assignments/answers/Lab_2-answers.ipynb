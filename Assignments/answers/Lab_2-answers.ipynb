{
 "cells": [
  {
   "cell_type": "markdown",
   "metadata": {},
   "source": [
    "# 1. Printing and User Input 2.0"
   ]
  },
  {
   "cell_type": "code",
   "execution_count": 1,
   "metadata": {},
   "outputs": [
    {
     "name": "stdout",
     "output_type": "stream",
     "text": [
      "Hello, what is your name? Emily\n",
      "Hello Emily, my name is Robert. How old are you? 30\n",
      "Emily, I am 27 years old, so I am 3 years younger than you.\n"
     ]
    }
   ],
   "source": [
    "name = input(\"Hello, what is your name? \")\n",
    "age  = input(\"Hello {}, my name is Robert. How old are you? \".format(name))\n",
    "\n",
    "age_difference = 27 - int(age)\n",
    "response = \"{}, I am 27 years old, so I am {} years\"\n",
    "\n",
    "if age_difference < 0:\n",
    "    response += \" younger than you.\"\n",
    "    age_difference = -age_difference\n",
    "else:\n",
    "    response += \" older than you.\"\n",
    "\n",
    "print(response.format(name, age_difference))"
   ]
  },
  {
   "cell_type": "markdown",
   "metadata": {},
   "source": [
    "# 2. A Bookstore"
   ]
  },
  {
   "cell_type": "code",
   "execution_count": 2,
   "metadata": {},
   "outputs": [
    {
     "name": "stdout",
     "output_type": "stream",
     "text": [
      "Enter the number of books: 5\n",
      "The costs of 5 books is 80.85 euros.\n"
     ]
    }
   ],
   "source": [
    "number_of_books = int(input(\"Enter the number of books: \"))\n",
    "\n",
    "cover_price = 24.95\n",
    "discount = 0.4\n",
    "shipping_first_item = 3.00\n",
    "shipping_extra_items = 0.75\n",
    "\n",
    "total_book_price = (number_of_books * cover_price) * (1.0 - discount)\n",
    "shipping_costs   = shipping_first_item + ((number_of_books - 1) * shipping_extra_items)\n",
    "total_price      = total_book_price + shipping_costs\n",
    "\n",
    "print(\"The costs of {} books is {:.2f} euros.\".format(number_of_books, total_price))"
   ]
  },
  {
   "cell_type": "markdown",
   "metadata": {},
   "source": [
    "# 3. Odd or Even"
   ]
  },
  {
   "cell_type": "code",
   "execution_count": 3,
   "metadata": {},
   "outputs": [
    {
     "name": "stdout",
     "output_type": "stream",
     "text": [
      "Enter a number: 3\n",
      "The number 3 is odd.\n",
      "Enter a number: 2\n",
      "The number 2 is even.\n",
      "Enter a number: exit\n"
     ]
    }
   ],
   "source": [
    "user_input = input(\"Enter a number: \")\n",
    "\n",
    "while user_input.isdigit():\n",
    "    answer = \"even.\" if int(user_input) % 2 == 0 else \"odd.\"\n",
    "    print(\"The number {} is {}\".format(user_input, answer))\n",
    "    user_input = input(\"Enter a number: \")\n",
    "    "
   ]
  },
  {
   "cell_type": "markdown",
   "metadata": {},
   "source": [
    "# 4. Parcel Delivery"
   ]
  },
  {
   "cell_type": "code",
   "execution_count": 4,
   "metadata": {},
   "outputs": [
    {
     "name": "stdout",
     "output_type": "stream",
     "text": [
      "Please enter the parcel's destination: world\n",
      "Please enter the parcel's weight: 6\n",
      "The cost is 58.30 euros.\n"
     ]
    }
   ],
   "source": [
    "zone = input(\"Please enter the parcel's destination: \").lower()\n",
    "weight = float(input(\"Please enter the parcel's weight: \"))\n",
    "cost = 0\n",
    "\n",
    "if zone == \"world\":\n",
    "    if weight > 0 and weight <= 2.0:\n",
    "        cost = 24.50\n",
    "        \n",
    "    elif weight > 2.0 and weight <= 5:\n",
    "        cost = 34.30\n",
    "        \n",
    "    elif weight > 5.0 and weight <= 10:\n",
    "        cost = 58.30\n",
    "        \n",
    "    else:\n",
    "        print(\"The parcel is too heavy.\")\n",
    "        \n",
    "elif zone == \"europe\":\n",
    "    if weight > 0 and weight <= 2.0:\n",
    "        cost = 13.00\n",
    "        \n",
    "    elif weight > 2.0 and weight <= 5:\n",
    "        cost = 19.50\n",
    "        \n",
    "    elif weight > 5.0 and weight <= 10:\n",
    "        cost = 25.00\n",
    "        \n",
    "    else:\n",
    "        print(\"The parcel is too heavy.\")\n",
    "        \n",
    "else:\n",
    "    print(\"Not a valid zone.\")\n",
    "    \n",
    "if cost != 0:\n",
    "    print(\"The cost is {:.2f} euros.\".format(cost))"
   ]
  },
  {
   "cell_type": "markdown",
   "metadata": {},
   "source": [
    "# 5. Simple Area Calculator"
   ]
  },
  {
   "cell_type": "code",
   "execution_count": 5,
   "metadata": {},
   "outputs": [
    {
     "name": "stdout",
     "output_type": "stream",
     "text": [
      "Please enter 'rectangle', 'triangle', or 'circle': circle\n",
      "Enter the radius: 10\n",
      "The area of this cirlce is  314.1592653589793\n"
     ]
    }
   ],
   "source": [
    "import math\n",
    "\n",
    "shape = input(\"Please enter 'rectangle', 'triangle', or 'circle': \")\n",
    "\n",
    "if shape == \"rectanlge\":\n",
    "    height = float(input(\"Enter the height: \"))\n",
    "    width = float(input(\"Enter the wdith: \"))\n",
    "    \n",
    "    area = height * width\n",
    "    \n",
    "    print(\"The area of this rectangle is \", area)\n",
    "    \n",
    "elif shape == \"triangle\":\n",
    "    height = float(input(\"Enter the height: \"))\n",
    "    width = float(input(\"Enter the wdith: \"))\n",
    "    \n",
    "    area = 0.5 * height * width\n",
    "    \n",
    "    print(\"The area of this triangle is \", area)\n",
    "    \n",
    "elif shape == \"circle\":\n",
    "    radius = float(input(\"Enter the radius: \"))\n",
    "    \n",
    "    area = math.pi * (radius ** 2)\n",
    "    \n",
    "    print(\"The area of this cirlce is \", area)\n",
    "    \n",
    "else:\n",
    "    print(\"Not a valid shape.\")"
   ]
  },
  {
   "cell_type": "markdown",
   "metadata": {},
   "source": [
    "# 6. Flowchart to Code"
   ]
  },
  {
   "cell_type": "code",
   "execution_count": 6,
   "metadata": {
    "scrolled": true
   },
   "outputs": [
    {
     "name": "stdout",
     "output_type": "stream",
     "text": [
      "Enter a maxiumum value: 9\n",
      "0\n",
      "2\n",
      "4\n",
      "6\n",
      "8\n"
     ]
    }
   ],
   "source": [
    "max = int(input(\"Enter a maxiumum value: \"))\n",
    "\n",
    "for num in range(max):\n",
    "    if num % 2 == 0:\n",
    "        print(num)"
   ]
  },
  {
   "cell_type": "markdown",
   "metadata": {},
   "source": [
    "# 7. Squares Table"
   ]
  },
  {
   "cell_type": "code",
   "execution_count": 7,
   "metadata": {},
   "outputs": [
    {
     "name": "stdout",
     "output_type": "stream",
     "text": [
      "What is the square of 93: 1\n",
      "Incorrect.\n",
      "What is the square of 93: 2\n",
      "Incorrect.\n",
      "What is the square of 93: 3\n",
      "Incorrect.\n",
      "What is the square of 49: 2401\n",
      "Correct! Keep it up.\n",
      "What is the square of 81: exit\n"
     ]
    }
   ],
   "source": [
    "import random\n",
    "\n",
    "running = True\n",
    "\n",
    "while running:\n",
    "    if random.random() < 0.5:\n",
    "        question_value = int(random.uniform(1, 100))\n",
    "        correct_answer = question_value ** 2\n",
    "        \n",
    "        for i in range(3):\n",
    "            student_answer = input(\"What is the square of {}: \".format(question_value))\n",
    "            if student_answer == \"exit\" or student_answer == \"q\":\n",
    "                running = False\n",
    "                break\n",
    "                \n",
    "            if int(student_answer) == correct_answer:\n",
    "                print(\"Correct! Keep it up.\")\n",
    "                break\n",
    "                \n",
    "            print(\"Incorrect.\")\n",
    "    else:\n",
    "        correct_answer = int(random.uniform(1, 100))\n",
    "        question_value = correct_answer ** 2\n",
    "        \n",
    "        for i in range(3):\n",
    "            student_answer = input(\"What is the square root of {}: \".format(question_value))\n",
    "            if student_answer == \"exit\" or student_answer == \"q\":\n",
    "                running = False\n",
    "                break\n",
    "            \n",
    "            if int(student_answer) == correct_answer:\n",
    "                print(\"Correct! Keep it up.\")\n",
    "                break\n",
    "                \n",
    "            print(\"Incorrect.\")"
   ]
  }
 ],
 "metadata": {
  "kernelspec": {
   "display_name": "Python 3",
   "language": "python",
   "name": "python3"
  },
  "language_info": {
   "codemirror_mode": {
    "name": "ipython",
    "version": 3
   },
   "file_extension": ".py",
   "mimetype": "text/x-python",
   "name": "python",
   "nbconvert_exporter": "python",
   "pygments_lexer": "ipython3",
   "version": "3.7.3"
  }
 },
 "nbformat": 4,
 "nbformat_minor": 2
}
