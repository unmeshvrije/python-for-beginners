{
 "cells": [
  {
   "cell_type": "markdown",
   "metadata": {},
   "source": [
    "# 1. Calculations"
   ]
  },
  {
   "cell_type": "code",
   "execution_count": 1,
   "metadata": {},
   "outputs": [
    {
     "name": "stdout",
     "output_type": "stream",
     "text": [
      "The average of 13, 22 and 16 is: 17.0\n"
     ]
    }
   ],
   "source": [
    "var1 = 13\n",
    "var2 = 22\n",
    "var3 = 16\n",
    "\n",
    "average = (var1 + var2 + var3) / 3\n",
    "\n",
    "print(\"The average of {}, {} and {} is: {}\".format(var1, var2, var3, average))"
   ]
  },
  {
   "cell_type": "markdown",
   "metadata": {},
   "source": [
    "# 2. Printing and Input"
   ]
  },
  {
   "cell_type": "code",
   "execution_count": 2,
   "metadata": {},
   "outputs": [
    {
     "name": "stdout",
     "output_type": "stream",
     "text": [
      "Hello, what is your name? Emily\n",
      "Hello Emily, my name is Robert. How old are you? 25\n",
      "\n",
      "Data registered:\n",
      "Name: Emily\n",
      "Age: 25\n"
     ]
    }
   ],
   "source": [
    "name = input(\"Hello, what is your name? \")\n",
    "age  = input(\"Hello {}, my name is Robert. How old are you? \".format(name))\n",
    "\n",
    "print(\"\\nData registered:\")\n",
    "print(\"Name: {}\".format(name))\n",
    "print(\"Age: {}\".format(age))"
   ]
  },
  {
   "cell_type": "markdown",
   "metadata": {},
   "source": [
    "# 3. Parrot"
   ]
  },
  {
   "cell_type": "code",
   "execution_count": 3,
   "metadata": {},
   "outputs": [
    {
     "name": "stdout",
     "output_type": "stream",
     "text": [
      "Enter anything: anything\n",
      "anything\n",
      "Enter anything: 123 123\n",
      "123 123\n",
      "Enter anything: exit\n"
     ]
    }
   ],
   "source": [
    "user_input = input(\"Enter anything: \")\n",
    "\n",
    "while user_input != \"exit\":\n",
    "    print(user_input)\n",
    "    user_input = input(\"Enter anything: \")"
   ]
  },
  {
   "cell_type": "markdown",
   "metadata": {},
   "source": [
    "# 4. Make it Double"
   ]
  },
  {
   "cell_type": "code",
   "execution_count": 4,
   "metadata": {},
   "outputs": [
    {
     "name": "stdout",
     "output_type": "stream",
     "text": [
      "Enter a number or 'q' to exit: 8\n",
      "16\n",
      "enter a number or 'q' to exit: 22\n",
      "44\n",
      "enter a number or 'q' to exit: q\n"
     ]
    }
   ],
   "source": [
    "user_input = input(\"Enter a number or 'q' to exit: \")\n",
    "\n",
    "while user_input != \"q\":\n",
    "    print(2 * int(user_input))\n",
    "    user_input = input(\"enter a number or 'q' to exit: \")"
   ]
  },
  {
   "cell_type": "markdown",
   "metadata": {},
   "source": [
    "# 5. Welcome Message"
   ]
  },
  {
   "cell_type": "code",
   "execution_count": 5,
   "metadata": {},
   "outputs": [
    {
     "name": "stdout",
     "output_type": "stream",
     "text": [
      "What is your name: John Doe\n",
      "Where are you from: Mars\n",
      "What do you study: humans\n",
      "Hello John Doe, I hope you had a nice journey here from Mars.\n",
      "Learning programming should be useful for humans.\n"
     ]
    }
   ],
   "source": [
    "name  = input(\"What is your name: \")\n",
    "home  = input(\"Where are you from: \")\n",
    "study = input(\"What do you study: \")\n",
    "\n",
    "print(\"Hello {}, I hope you had a nice journey here from {}.\\nLearning programming should be useful for {}.\".format(name, home, study))"
   ]
  }
 ],
 "metadata": {
  "kernelspec": {
   "display_name": "Python 3",
   "language": "python",
   "name": "python3"
  },
  "language_info": {
   "codemirror_mode": {
    "name": "ipython",
    "version": 3
   },
   "file_extension": ".py",
   "mimetype": "text/x-python",
   "name": "python",
   "nbconvert_exporter": "python",
   "pygments_lexer": "ipython3",
   "version": "3.7.3"
  }
 },
 "nbformat": 4,
 "nbformat_minor": 2
}
